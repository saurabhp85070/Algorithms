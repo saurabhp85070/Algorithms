{
  "nbformat": 4,
  "nbformat_minor": 0,
  "metadata": {
    "colab": {
      "name": "tryMusic.ipynb",
      "provenance": [],
      "authorship_tag": "ABX9TyP2ny/PLifBTcMwTj+dIumZ",
      "include_colab_link": true
    },
    "kernelspec": {
      "name": "python3",
      "display_name": "Python 3"
    },
    "language_info": {
      "name": "python"
    }
  },
  "cells": [
    {
      "cell_type": "markdown",
      "metadata": {
        "id": "view-in-github",
        "colab_type": "text"
      },
      "source": [
        "<a href=\"https://colab.research.google.com/github/saurabhp8507014288/Algorithms/blob/main/tryMusic.ipynb\" target=\"_parent\"><img src=\"https://colab.research.google.com/assets/colab-badge.svg\" alt=\"Open In Colab\"/></a>"
      ]
    },
    {
      "cell_type": "code",
      "source": [
        "from google.colab import drive\n",
        "drive.mount('/content/drive')"
      ],
      "metadata": {
        "colab": {
          "base_uri": "https://localhost:8080/"
        },
        "id": "uezRHUE0C1Y8",
        "outputId": "7d4d7d77-52ff-49e8-b43d-7194f42c0cf7"
      },
      "execution_count": 2,
      "outputs": [
        {
          "output_type": "stream",
          "name": "stdout",
          "text": [
            "Mounted at /content/drive\n"
          ]
        }
      ]
    },
    {
      "cell_type": "code",
      "source": [
        "!pip install python_speech_features"
      ],
      "metadata": {
        "colab": {
          "base_uri": "https://localhost:8080/"
        },
        "id": "t06kE3E8DDY0",
        "outputId": "d50e2324-c198-4aba-9fe6-ea06fa4f04b8"
      },
      "execution_count": 3,
      "outputs": [
        {
          "output_type": "stream",
          "name": "stdout",
          "text": [
            "Collecting python_speech_features\n",
            "  Downloading python_speech_features-0.6.tar.gz (5.6 kB)\n",
            "Building wheels for collected packages: python-speech-features\n",
            "  Building wheel for python-speech-features (setup.py) ... \u001b[?25l\u001b[?25hdone\n",
            "  Created wheel for python-speech-features: filename=python_speech_features-0.6-py3-none-any.whl size=5888 sha256=0741e525eb00b8a793e6b6ab5f9dca385078c5bad80e710b8f3c6d639da1c606\n",
            "  Stored in directory: /root/.cache/pip/wheels/b0/0e/94/28cd6afa3cd5998a63eef99fe31777acd7d758f59cf24839eb\n",
            "Successfully built python-speech-features\n",
            "Installing collected packages: python-speech-features\n",
            "Successfully installed python-speech-features-0.6\n"
          ]
        }
      ]
    },
    {
      "cell_type": "code",
      "execution_count": 4,
      "metadata": {
        "id": "dyozSH7qCtd5"
      },
      "outputs": [],
      "source": [
        "from python_speech_features import mfcc\n",
        "import scipy.io.wavfile as wav\n",
        "import numpy as np\n",
        "\n",
        "from tempfile import TemporaryFile\n",
        "\n",
        "import os\n",
        "import pickle\n",
        "import random\n",
        "import operator\n",
        "\n",
        "import math"
      ]
    },
    {
      "cell_type": "code",
      "source": [
        "# function to get the distance between feature vecotrs and find neighbors\n",
        "def getNeighbors(trainingSet, instance, k):\n",
        "    distances = []\n",
        "    for x in range(len(trainingSet)):\n",
        "        dist = distance(trainingSet[x], instance, k) + distance(instance, trainingSet[x], k)\n",
        "        distances.append((trainingSet[x][2], dist))\n",
        "\n",
        "    distances.sort(key=operator.itemgetter(1))\n",
        "    neighbors = []\n",
        "    for x in range(k):\n",
        "        neighbors.append(distances[x][0])\n",
        "    \n",
        "    return neighbors"
      ],
      "metadata": {
        "id": "iTI3gkB8Cu64"
      },
      "execution_count": 5,
      "outputs": []
    },
    {
      "cell_type": "code",
      "source": [
        "# identify the class of the instance\n",
        "def nearestClass(neighbors):\n",
        "    classVote = {}\n",
        "\n",
        "    for x in range(len(neighbors)):\n",
        "        response = neighbors[x]\n",
        "        if response in classVote:\n",
        "            classVote[response] += 1\n",
        "        else:\n",
        "            classVote[response] = 1\n",
        "\n",
        "    sorter = sorted(classVote.items(), key = operator.itemgetter(1), reverse=True)\n",
        "\n",
        "    return sorter[0][0]"
      ],
      "metadata": {
        "id": "S6nSxlkeDPHr"
      },
      "execution_count": 6,
      "outputs": []
    },
    {
      "cell_type": "code",
      "source": [
        "# function to evaluate the model\n",
        "def getAccuracy(testSet, prediction):\n",
        "    correct = 0\n",
        "    for x in range(len(testSet)):\n",
        "        if testSet[x][-1] == predictions[x]:\n",
        "            correct += 1\n",
        "    \n",
        "    return (1.0 * correct) / len(testSet)"
      ],
      "metadata": {
        "id": "2QInTxRTDTCI"
      },
      "execution_count": 7,
      "outputs": []
    },
    {
      "cell_type": "code",
      "source": [
        "# directory that holds the wav files\n",
        "directory = \"/content/drive/MyDrive/Colab Notebooks/Data/genres_original/\"\n",
        "\n",
        "# binary file where we will collect all the features extracted using mfcc (Mel Frequency Cepstral Coefficients)\n",
        "f = open(\"my.dat\", 'wb')\n",
        "\n",
        "i = 0\n",
        "\n",
        "for folder in os.listdir(directory):\n",
        "    i += 1\n",
        "    if i == 11:\n",
        "        break\n",
        "    for file in os.listdir(directory+folder):        \n",
        "        try:\n",
        "            (rate, sig) = wav.read(directory+folder+\"/\"+file)\n",
        "            mfcc_feat = mfcc(sig, rate, winlen=0.020, appendEnergy=False)\n",
        "            covariance = np.cov(np.matrix.transpose(mfcc_feat))\n",
        "            mean_matrix = mfcc_feat.mean(0)\n",
        "            feature = (mean_matrix, covariance, i)\n",
        "            pickle.dump(feature, f)\n",
        "        except Exception as e:\n",
        "            print('Got an exception: ', e, ' in folder: ', folder, ' filename: ', file)        \n",
        "\n",
        "f.close()"
      ],
      "metadata": {
        "colab": {
          "base_uri": "https://localhost:8080/"
        },
        "id": "1JgEfNQaDWVT",
        "outputId": "b0b5336e-dd28-4b1d-9cf5-a2d84d2ec912"
      },
      "execution_count": 8,
      "outputs": [
        {
          "output_type": "stream",
          "name": "stdout",
          "text": [
            "Got an exception:  File format b'\\xcb\\x15\\x1e\\x16'... not understood.  in folder:  jazz  filename:  jazz.00054.wav\n"
          ]
        }
      ]
    },
    {
      "cell_type": "code",
      "source": [
        "# Split the dataset into training and testing sets respectively\n",
        "dataset = []\n",
        "\n",
        "def loadDataset(filename, split, trSet, teSet):\n",
        "    with open('my.dat', 'rb') as f:\n",
        "        while True:\n",
        "            try:\n",
        "                dataset.append(pickle.load(f))\n",
        "            except EOFError:\n",
        "                f.close()\n",
        "                break\n",
        "    for x in range(len(dataset)):\n",
        "        if random.random() < split:\n",
        "            trSet.append(dataset[x])\n",
        "        else:\n",
        "            teSet.append(dataset[x])\n",
        "trainingSet = []\n",
        "testSet = []\n",
        "loadDataset('my.dat', 0.66, trainingSet, testSet)"
      ],
      "metadata": {
        "id": "SdYmzkYNDjyT"
      },
      "execution_count": 9,
      "outputs": []
    },
    {
      "cell_type": "code",
      "source": [
        "def distance(instance1 , instance2 , k ):\n",
        "    distance =0 \n",
        "    mm1 = instance1[0] \n",
        "    cm1 = instance1[1]\n",
        "    mm2 = instance2[0]\n",
        "    cm2 = instance2[1]\n",
        "    distance = np.trace(np.dot(np.linalg.inv(cm2), cm1)) \n",
        "    distance+=(np.dot(np.dot((mm2-mm1).transpose() , np.linalg.inv(cm2)) , mm2-mm1 )) \n",
        "    distance+= np.log(np.linalg.det(cm2)) - np.log(np.linalg.det(cm1))\n",
        "    distance-= k\n",
        "    return distance"
      ],
      "metadata": {
        "id": "0QuS3szLERTg"
      },
      "execution_count": 10,
      "outputs": []
    },
    {
      "cell_type": "code",
      "source": [
        "# making predictions using KNN\n",
        "leng = len(testSet)\n",
        "predictions = []\n",
        "for x in range(leng):\n",
        "    predictions.append(nearestClass(getNeighbors(trainingSet, testSet[x], 5)))\n",
        "\n",
        "accuracy1 = getAccuracy(testSet, predictions)\n",
        "print(accuracy1)"
      ],
      "metadata": {
        "colab": {
          "base_uri": "https://localhost:8080/"
        },
        "id": "YOGyk9BoEUTE",
        "outputId": "f3c068fa-5494-45d5-957c-b3b760c7071f"
      },
      "execution_count": 11,
      "outputs": [
        {
          "output_type": "stream",
          "name": "stdout",
          "text": [
            "0.7129909365558912\n"
          ]
        }
      ]
    },
    {
      "cell_type": "code",
      "source": [
        "# testing the code with external samples\n",
        "# URL: https://uweb.engr.arizona.edu/~429rns/audiofiles/audiofiles.html\n",
        "\n",
        "test_dir = \"/content/drive/MyDrive/Colab Notebooks/Test/\"\n",
        "test_file = test_dir + \"tp.wav\"\n",
        "#test_file = test_dir + \"test1.wav\"\n",
        "# test_file = test_dir + \"test4.wav\""
      ],
      "metadata": {
        "id": "GXz6BIQvEZYr"
      },
      "execution_count": 27,
      "outputs": []
    },
    {
      "cell_type": "code",
      "source": [
        "print(type(test_file))"
      ],
      "metadata": {
        "colab": {
          "base_uri": "https://localhost:8080/"
        },
        "id": "7PBoR6sWI9qN",
        "outputId": "13ba44cd-1b37-4a92-bca1-0d031d76e376"
      },
      "execution_count": 28,
      "outputs": [
        {
          "output_type": "stream",
          "name": "stdout",
          "text": [
            "<class 'str'>\n"
          ]
        }
      ]
    },
    {
      "cell_type": "code",
      "source": [
        "(rate, sig) = wav.read(test_file)\n",
        "mfcc_feat = mfcc(sig, rate, winlen=0.020, appendEnergy=False)\n",
        "covariance = np.cov(np.matrix.transpose(mfcc_feat))\n",
        "mean_matrix = mfcc_feat.mean(0)\n",
        "feature = (mean_matrix, covariance, i)"
      ],
      "metadata": {
        "id": "tl75n62bHOEP"
      },
      "execution_count": 29,
      "outputs": []
    },
    {
      "cell_type": "code",
      "source": [
        "from collections import defaultdict\n",
        "results = defaultdict(int)\n",
        "\n",
        "directory = \"/content/drive/MyDrive/Colab Notebooks/Data/genres_original/\"\n",
        "\n",
        "i = 1\n",
        "for folder in os.listdir(directory):\n",
        "    results[i] = folder\n",
        "    i += 1"
      ],
      "metadata": {
        "id": "-emBPKVtHWia"
      },
      "execution_count": 30,
      "outputs": []
    },
    {
      "cell_type": "code",
      "source": [
        "pred = nearestClass(getNeighbors(dataset, feature, 5))\n",
        "print(results[pred])"
      ],
      "metadata": {
        "colab": {
          "base_uri": "https://localhost:8080/"
        },
        "id": "fedacrvmKDB4",
        "outputId": "57220c6d-a214-4954-f9ed-98c4bac844cf"
      },
      "execution_count": 31,
      "outputs": [
        {
          "output_type": "stream",
          "name": "stdout",
          "text": [
            "pop\n"
          ]
        }
      ]
    },
    {
      "cell_type": "code",
      "source": [
        ""
      ],
      "metadata": {
        "id": "obIe-c2zKF9b"
      },
      "execution_count": null,
      "outputs": []
    }
  ]
}